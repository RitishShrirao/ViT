{
 "cells": [
  {
   "cell_type": "code",
   "execution_count": 1,
   "metadata": {
    "executionInfo": {
     "elapsed": 714,
     "status": "ok",
     "timestamp": 1718000608410,
     "user": {
      "displayName": "Ritish Shrirao",
      "userId": "00405296856343604498"
     },
     "user_tz": -330
    },
    "id": "tlrrxg0CbKa6"
   },
   "outputs": [
    {
     "name": "stderr",
     "output_type": "stream",
     "text": [
      "/home/ritish/prog/ML/.venv/lib/python3.12/site-packages/tqdm/auto.py:21: TqdmWarning: IProgress not found. Please update jupyter and ipywidgets. See https://ipywidgets.readthedocs.io/en/stable/user_install.html\n",
      "  from .autonotebook import tqdm as notebook_tqdm\n"
     ]
    }
   ],
   "source": [
    "import math\n",
    "import numpy as np\n",
    "import torch\n",
    "import torch.nn as nn\n",
    "import torch.nn.functional as F\n",
    "from torch.utils.data import DataLoader, RandomSampler\n",
    "from transformers import AutoTokenizer\n",
    "import os\n",
    "import random\n",
    "import wandb\n",
    "import matplotlib.pyplot as plt"
   ]
  },
  {
   "cell_type": "code",
   "execution_count": null,
   "metadata": {
    "colab": {
     "base_uri": "https://localhost:8080/"
    },
    "executionInfo": {
     "elapsed": 14707,
     "status": "ok",
     "timestamp": 1718000628117,
     "user": {
      "displayName": "Ritish Shrirao",
      "userId": "00405296856343604498"
     },
     "user_tz": -330
    },
    "id": "ke-OO6SjbKa7",
    "outputId": "8110fcf4-d4b0-4cc5-99e5-3e707f029957"
   },
   "outputs": [
    {
     "name": "stdout",
     "output_type": "stream",
     "text": [
      "Files already downloaded and verified\n",
      "Files already downloaded and verified\n"
     ]
    }
   ],
   "source": [
    "# import pytorch datasets\n",
    "from torchvision import datasets as Datasets\n",
    "from torchvision import transforms\n",
    "\n",
    "cifar10_train_transforms = transforms.Compose([\n",
    "    transforms.RandomHorizontalFlip(),\n",
    "    transforms.RandomResizedCrop((32, 32), scale=(0.8, 1.0), ratio=(0.75, 1.3333333333333333), interpolation=2),\n",
    "    transforms.RandAugment(),\n",
    "    transforms.ToTensor(),\n",
    "    transforms.Normalize([0.49139968, 0.48215841, 0.44653091], [0.24703223, 0.24348513, 0.26158784])\n",
    "])\n",
    "\n",
    "cifar10_val_transforms = transforms.Compose([\n",
    "    transforms.ToTensor(),\n",
    "    transforms.Normalize([0.49139968, 0.48215841, 0.44653091], [0.24703223, 0.24348513, 0.26158784])\n",
    "])\n",
    "\n",
    "#  loading training data\n",
    "training_set = Datasets.CIFAR10(root='../../autoencoder/', download=True, transform=cifar10_train_transforms)\n",
    "\n",
    "#  loading validation data\n",
    "validation_set = Datasets.CIFAR10(root='../../autoencoder/', download=True, train=False, transform=cifar10_val_transforms)"
   ]
  },
  {
   "cell_type": "code",
   "execution_count": null,
   "metadata": {
    "executionInfo": {
     "elapsed": 4,
     "status": "ok",
     "timestamp": 1718000628118,
     "user": {
      "displayName": "Ritish Shrirao",
      "userId": "00405296856343604498"
     },
     "user_tz": -330
    },
    "id": "YApPyv_DbKa8"
   },
   "outputs": [],
   "source": [
    "# Creating a vision transformer model from scratch\n",
    "class MultiHeadAttention(nn.Module):\n",
    "    def __init__(self, num_heads, head_size, causal):\n",
    "        super().__init__()\n",
    "        self.num_heads = num_heads\n",
    "        self.head_size = head_size\n",
    "        self.causal = causal\n",
    "        self.q_attn = nn.Linear(config['n_embed'], config['n_embed'], bias=False)\n",
    "        self.kv_attn = nn.Linear(config['n_embed'], config['n_embed'] * 2, bias=False)\n",
    "        self.c_proj = nn.Linear(config['n_embed'], config['n_embed'], bias=False)             # Combine the outputs of the heads\n",
    "        self.attn_dropout = nn.Dropout(config['dropout'])\n",
    "        self.resid_dropout = nn.Dropout(config['dropout'])\n",
    "\n",
    "        self.flash = hasattr(torch.nn.functional, 'scaled_dot_product_attention')\n",
    "        # self.flash = False\n",
    "\n",
    "        if not self.flash:\n",
    "            print(\"WARNING: using slow attention.\")\n",
    "            self.register_buffer(\"tril\", torch.tril(torch.ones(config['block_size'], config['block_size'])))\n",
    "\n",
    "    def forward(self, x, y=None, mask=None):\n",
    "        B, T_dec, C = x.shape\n",
    "\n",
    "        if y is None:\n",
    "            y = x\n",
    "\n",
    "        B, T_enc, C = y.shape\n",
    "\n",
    "        # Query from the decoder\n",
    "        q = self.q_attn(x).view(B, T_dec, self.num_heads, self.head_size).transpose(1, 2)  # (B,T_dec,C) -> (B,T_dec,nh,hs) -> (B,nh,T_dec,hs)\n",
    "        k, v = self.kv_attn(y).split(C, dim=-1)                                 # (B,T_enc,2C) -> 2*(B,T_enc,C)\n",
    "        k = k.view(B, T_enc, self.num_heads, self.head_size).transpose(1, 2)    # (B,nh,T_enc,hs)\n",
    "        v = v.view(B, T_enc, self.num_heads, self.head_size).transpose(1, 2)    # (B,nh,T_enc,hs)\n",
    "\n",
    "        if self.flash:\n",
    "            out = torch.nn.functional.scaled_dot_product_attention(q, k, v, attn_mask=None, is_causal=self.causal)\n",
    "        else:\n",
    "            wei = q @ k.transpose(-2, -1) * 1.0 / math.sqrt(k.size(-1))         # (B,nh,T_dec,hs) @ (B,nh,hs,T_enc) -> (B,nh,T_dec,T_enc)\n",
    "            if self.causal:\n",
    "                if mask is None:\n",
    "                    # Lower triangular mask to mask future tokens\n",
    "                    wei = wei.masked_fill(self.tril[:T_dec, :T_enc] == 0, float('-inf')) # (B,nh,T_dec,T_enc)\n",
    "                else:\n",
    "                    wei = wei.masked_fill(mask == 0, float('-inf'))             # (B,nh,T_dec,T_enc)\n",
    "            wei = F.softmax(wei, dim=-1)                                        # (B,nh,T_dec,T_enc)\n",
    "            wei = self.attn_dropout(wei)\n",
    "            out = wei @ v                                                       # (B,nh,T_dec,T_enc) @ (B,nh,T_enc,hs) -> (B,nh,T_dec,hs)\n",
    "\n",
    "        out = out.transpose(1, 2).contiguous().view(B, T_dec, -1)               # (B,T_dec,nh*hs) = (B,T_dec,C)\n",
    "        return self.resid_dropout(self.c_proj(out))\n",
    "\n",
    "class FeedFoward(nn.Module):\n",
    "    \"\"\" a simple linear layer followed by a non-linearity \"\"\"\n",
    "\n",
    "    def __init__(self, n_embed):\n",
    "        super().__init__()\n",
    "        self.net = nn.Sequential(\n",
    "            nn.Linear(n_embed, 4 * n_embed),\n",
    "            nn.GELU(),\n",
    "            # nn.ReLU(),\n",
    "            nn.Linear(4 * n_embed, n_embed),\n",
    "            nn.Dropout(config['dropout']),\n",
    "        )\n",
    "\n",
    "    def forward(self, x):\n",
    "        return self.net(x)\n",
    "\n",
    "class EncoderBlock(nn.Module):\n",
    "    \"\"\" Transformer block: communication followed by computation \"\"\"\n",
    "\n",
    "    def __init__(self, n_embed, n_head):\n",
    "        # n_embed: embedding dimension, nhead: the number of heads we'd like\n",
    "        super().__init__()\n",
    "        head_size = n_embed // n_head\n",
    "        self.sa = MultiHeadAttention(n_head, head_size, causal=False)\n",
    "        self.ffwd = FeedFoward(n_embed)\n",
    "        self.ln1 = nn.LayerNorm(n_embed)\n",
    "        self.ln2 = nn.LayerNorm(n_embed)\n",
    "\n",
    "    def forward(self, x):\n",
    "        x = x + self.sa(self.ln1(x))\n",
    "        x = x + self.ffwd(self.ln2(x))\n",
    "        return x\n",
    "\n",
    "class DecoderBlock(nn.Module):\n",
    "    \"\"\" Transformer block: communication followed by computation \"\"\"\n",
    "\n",
    "    def __init__(self, n_embed, n_head, cross=False):\n",
    "        # n_embed: embedding dimension, n_head: the number of heads we'd like\n",
    "        super().__init__()\n",
    "        self.cross = cross\n",
    "        head_size = n_embed // n_head\n",
    "        self.sa = MultiHeadAttention(n_head, head_size, causal=True)               # Masked MHA\n",
    "        if self.cross:\n",
    "            # Cross attention block\n",
    "            self.cross_sa = MultiHeadAttention(n_head, head_size, causal=False,)     # Cross MHA\n",
    "        self.ffwd = FeedFoward(n_embed)\n",
    "        self.ln1 = nn.LayerNorm(n_embed)\n",
    "        self.ln2 = nn.LayerNorm(n_embed)\n",
    "        self.ln3 = nn.LayerNorm(n_embed)\n",
    "\n",
    "    def forward(self, x, y=None):\n",
    "        x = x + self.sa(self.ln1(x))\n",
    "        if self.cross:\n",
    "            x = x + self.cross_sa(self.ln2(x), y)\n",
    "        x = x + self.ffwd(self.ln3(x))\n",
    "        return x\n",
    "\n",
    "class PatchEmbeddingsConv(nn.Module):\n",
    "    \"\"\" Extracting patches and then projecting the patches \"\"\"\n",
    "\n",
    "    def __init__(self, img_size, patch_size, in_chans, n_embed):\n",
    "        super().__init__()\n",
    "        self.img_size = img_size\n",
    "        self.patch_size = patch_size\n",
    "        self.n_patch = (img_size // patch_size) ** 2\n",
    "        self.conv = nn.Conv2d(in_chans, n_embed, kernel_size=patch_size, stride=patch_size)\n",
    "\n",
    "    def forward(self, x):\n",
    "        B, C, H, W = x.shape\n",
    "        assert H == self.img_size and W == self.img_size, f\"Input image size ({H}*{W}) doesn't match model ({self.img_size}*{self.img_size})\"\n",
    "        x = self.conv(x).flatten(2).transpose(1, 2)     # (B, n_embed, n_patch)\n",
    "        return x\n",
    "\n",
    "class PatchEmbeddingsLinear(nn.Module):\n",
    "    \"\"\" Extracting patches and then projecting the patches \"\"\"\n",
    "\n",
    "    def __init__(self, img_size, patch_size, in_chans, n_embed):\n",
    "        super().__init__()\n",
    "        self.img_size = img_size\n",
    "        self.patch_size = patch_size\n",
    "        self.n_patch = (img_size // patch_size) ** 2\n",
    "        self.proj = nn.Linear(in_chans * (patch_size ** 2), n_embed)\n",
    "\n",
    "    def forward(self, x):\n",
    "        B, C, H, W = x.shape\n",
    "        assert H == self.img_size and W == self.img_size, f\"Input image size ({H}*{W}) doesn't match model ({self.img_size}*{self.img_size})\"\n",
    "\n",
    "        # Extract patches by folding the image across H and W\n",
    "        x = x.unfold(2, self.patch_size, self.patch_size).unfold(3, self.patch_size, self.patch_size)   # (B, C, H, W) -> (B, C, H//P, W//P, P, P)\n",
    "        x = x.flatten(2, 3).transpose(1, 2)                                                             # (B, C, H//P, W//P, P, P) -> (B, H//P*W//P, C,P,P)\n",
    "        x = x.flatten(2)                                                                                # (B, n_patch, C*P*P)\n",
    "        return self.proj(x)                                                                             # (B, n_patch, n_embed)\n",
    "\n",
    "class VisionTransformer(nn.Module):\n",
    "    def __init__(self, image_size, patch_size, in_channels, config):\n",
    "        super().__init__()\n",
    "        # self.embeddings = PatchEmbeddingsLinear(image_size, patch_size, in_channels, config['n_embed'])\n",
    "        self.embeddings = PatchEmbeddingsConv(image_size, patch_size, in_channels, config['n_embed'])\n",
    "        n_patches = (image_size // patch_size) ** 2\n",
    "        self.pos_embedding = nn.Parameter(torch.randn(1, n_patches+1, config['n_embed']))\n",
    "        self.cls_token = nn.Parameter(torch.randn(1, 1, config['n_embed']))\n",
    "        self.enc_blocks = nn.Sequential(*[EncoderBlock(config['n_embed'], config['n_head']) for _ in range(config['n_layer'])])\n",
    "        self.ln_f = nn.LayerNorm(config['n_embed'])\n",
    "        self.MLP = nn.Sequential(\n",
    "            nn.Linear(config['n_embed'], config['n_embed']),\n",
    "            nn.GELU(),\n",
    "            nn.Dropout(config['dropout']),\n",
    "            nn.Linear(config['n_embed'], config['vocab_size']),\n",
    "        )\n",
    "\n",
    "    def forward(self, x, targets=None):\n",
    "        x = self.embeddings(x)\n",
    "        # Add cls token as a learnable parameter\n",
    "        cls_token = self.cls_token.expand(x.shape[0], -1, -1)                   # (B, 1, C)\n",
    "        x = torch.cat((cls_token, x), dim=1)                                    # (B, T+1, C)\n",
    "        x = x + self.pos_embedding                                              # (B, T+1, C)\n",
    "        x = self.enc_blocks(x)                                                  # (B, T+1, C)\n",
    "\n",
    "        # Only return the cls token\n",
    "        x = x[:, 0, :]                                                          # (B, C)\n",
    "\n",
    "        # Pass through final layer and get the logits\n",
    "        x = self.MLP(self.ln_f(x))                                              # (B, vocab_size)\n",
    "\n",
    "        loss = None\n",
    "        if targets is not None:\n",
    "            loss = F.cross_entropy(x, targets.view(-1), ignore_index=0)\n",
    "        return x, loss"
   ]
  },
  {
   "cell_type": "code",
   "execution_count": null,
   "metadata": {
    "executionInfo": {
     "elapsed": 2,
     "status": "ok",
     "timestamp": 1718000630993,
     "user": {
      "displayName": "Ritish Shrirao",
      "userId": "00405296856343604498"
     },
     "user_tz": -330
    },
    "id": "v0NEEo3jbKa8"
   },
   "outputs": [],
   "source": [
    "config = {\n",
    "    'n_embed': 256,\n",
    "    'n_head': 8,\n",
    "    'n_layer': 6,\n",
    "    'img_size': 32,\n",
    "    'patch_size': 4,\n",
    "    'block_size': 65,\n",
    "    'dropout': 0.2,\n",
    "    'batch_size': 64,\n",
    "    'vocab_size':10,\n",
    "    # 'mixed_precision': 'fp16',\n",
    "    'activation' : 'gelu'\n",
    "}"
   ]
  },
  {
   "cell_type": "code",
   "execution_count": 34,
   "metadata": {
    "colab": {
     "base_uri": "https://localhost:8080/",
     "height": 235,
     "referenced_widgets": [
      "d3af52cdfff54edf91ee741a587903ae",
      "ccc7e1eb52a4406b8e343a422d7e3dcf",
      "faa50675053e4b7a9013786342aa8552",
      "377ce14bb46e477da2ef1d67bdf866ed",
      "ab86ecac00984d0b9684d2d116232d63",
      "58d745e01c72443891a3d40e5ff3d715",
      "afe1f2bc768b43aeab105b6f5cdfb4fa",
      "6fa670756fce4d968e103f142389c005"
     ]
    },
    "executionInfo": {
     "elapsed": 3917,
     "status": "ok",
     "timestamp": 1718005978764,
     "user": {
      "displayName": "Ritish Shrirao",
      "userId": "00405296856343604498"
     },
     "user_tz": -330
    },
    "id": "f9Ef7ZWFbKa9",
    "outputId": "710a989a-01ff-48bf-ec2c-f3a0bc3c1dd3"
   },
   "outputs": [
    {
     "data": {
      "application/vnd.jupyter.widget-view+json": {
       "model_id": "d3af52cdfff54edf91ee741a587903ae",
       "version_major": 2,
       "version_minor": 0
      },
      "text/plain": [
       "VBox(children=(Label(value='0.000 MB of 0.000 MB uploaded\\r'), FloatProgress(value=1.0, max=1.0)))"
      ]
     },
     "metadata": {},
     "output_type": "display_data"
    },
    {
     "data": {
      "text/html": [
       "<style>\n",
       "    table.wandb td:nth-child(1) { padding: 0 10px; text-align: left ; width: auto;} td:nth-child(2) {text-align: left ; width: 100%}\n",
       "    .wandb-row { display: flex; flex-direction: row; flex-wrap: wrap; justify-content: flex-start; width: 100% }\n",
       "    .wandb-col { display: flex; flex-direction: column; flex-basis: 100%; flex: 1; padding: 10px; }\n",
       "    </style>\n",
       "<div class=\"wandb-row\"><div class=\"wandb-col\"><h3>Run history:</h3><br/><table class=\"wandb\"><tr><td>accuracy</td><td>▅▅█▁▅▁▅▁▅█▅▅▅▅▅▅█▁▅█▅▅▅▅▅▅▁▁▁▅███▅█████▁</td></tr><tr><td>lr</td><td>█████████████████████████████████▁▁▁▁▁▁▁</td></tr><tr><td>train_loss</td><td>██████▇▇▇▇▇▇▇▇▇▇▇▇▇▇▆▆▆▆▆▆▆▆▆▆▆▆▆▁▅▅▃▅▅▅</td></tr><tr><td>val_loss</td><td>▇█▆▆▅▄▆▆▄▃▅▃▃▆▃▃▃▃▃▃▃▂▅▃▂▄▁▃▇▁▄▃▄▁▂▂▁▁▂▃</td></tr></table><br/></div><div class=\"wandb-col\"><h3>Run summary:</h3><br/><table class=\"wandb\"><tr><td>accuracy</td><td>0.8125</td></tr><tr><td>lr</td><td>3e-05</td></tr><tr><td>train_loss</td><td>0.33672</td></tr><tr><td>val_loss</td><td>0.52383</td></tr></table><br/></div></div>"
      ],
      "text/plain": [
       "<IPython.core.display.HTML object>"
      ]
     },
     "metadata": {},
     "output_type": "display_data"
    },
    {
     "data": {
      "text/html": [
       " View run <strong style=\"color:#cdcd00\">jumping-hill-12</strong> at: <a href='https://wandb.ai/ritishtest1/vit_cifar10/runs/ag41z1zl' target=\"_blank\">https://wandb.ai/ritishtest1/vit_cifar10/runs/ag41z1zl</a><br/> View project at: <a href='https://wandb.ai/ritishtest1/vit_cifar10' target=\"_blank\">https://wandb.ai/ritishtest1/vit_cifar10</a><br/>Synced 4 W&B file(s), 0 media file(s), 0 artifact file(s) and 0 other file(s)"
      ],
      "text/plain": [
       "<IPython.core.display.HTML object>"
      ]
     },
     "metadata": {},
     "output_type": "display_data"
    },
    {
     "data": {
      "text/html": [
       "Find logs at: <code>./wandb/run-20240610_062415-ag41z1zl/logs</code>"
      ],
      "text/plain": [
       "<IPython.core.display.HTML object>"
      ]
     },
     "metadata": {},
     "output_type": "display_data"
    }
   ],
   "source": [
    "wandb.finish()"
   ]
  },
  {
   "cell_type": "code",
   "execution_count": null,
   "metadata": {
    "colab": {
     "base_uri": "https://localhost:8080/",
     "height": 235
    },
    "executionInfo": {
     "elapsed": 26553,
     "status": "ok",
     "timestamp": 1718000659436,
     "user": {
      "displayName": "Ritish Shrirao",
      "userId": "00405296856343604498"
     },
     "user_tz": -330
    },
    "id": "yPCdRia6bKa9",
    "outputId": "9a882d5b-e5fc-405b-9830-636d2cc1c4b9"
   },
   "outputs": [],
   "source": [
    "wandb.init(\n",
    "    project=\"vit_cifar10\",\n",
    "    entity=\"ritishtest1\",\n",
    "    id='ag41z1zl',\n",
    "    resume='must',\n",
    "\n",
    "    config=config,\n",
    ")"
   ]
  },
  {
   "cell_type": "code",
   "execution_count": 5,
   "metadata": {
    "colab": {
     "base_uri": "https://localhost:8080/"
    },
    "executionInfo": {
     "elapsed": 471,
     "status": "ok",
     "timestamp": 1718000668223,
     "user": {
      "displayName": "Ritish Shrirao",
      "userId": "00405296856343604498"
     },
     "user_tz": -330
    },
    "id": "j7NuhRPobKa9",
    "outputId": "95eb897a-9b17-4c33-94fa-43ddc532b8f3"
   },
   "outputs": [
    {
     "name": "stdout",
     "output_type": "stream",
     "text": [
      "4.83073 M params\n"
     ]
    }
   ],
   "source": [
    "# Create a model\n",
    "model = VisionTransformer(image_size=32, patch_size=4, in_channels=3, config=config)\n",
    "device = torch.device('cuda' if torch.cuda.is_available() else 'cpu')\n",
    "# device = 'cpu'\n",
    "model = model.to(device)\n",
    "n_epoch = 0\n",
    "step = 0\n",
    "# Print parameters\n",
    "print(sum(p.numel() for p in model.parameters() if p.requires_grad)/1e6, 'M params')"
   ]
  },
  {
   "cell_type": "code",
   "execution_count": 6,
   "metadata": {
    "executionInfo": {
     "elapsed": 2,
     "status": "ok",
     "timestamp": 1718000766505,
     "user": {
      "displayName": "Ritish Shrirao",
      "userId": "00405296856343604498"
     },
     "user_tz": -330
    },
    "id": "RX_I6f6a0uNb"
   },
   "outputs": [],
   "source": [
    "n_epoch=70\n",
    "step = 57000"
   ]
  },
  {
   "cell_type": "code",
   "execution_count": 7,
   "metadata": {
    "id": "V34qG-yWbKa-"
   },
   "outputs": [],
   "source": [
    "# Load model\n",
    "# model.load_state_dict(torch.load('vit_cifar10_test.safetensors'))"
   ]
  },
  {
   "cell_type": "code",
   "execution_count": 6,
   "metadata": {
    "executionInfo": {
     "elapsed": 443,
     "status": "ok",
     "timestamp": 1718000809832,
     "user": {
      "displayName": "Ritish Shrirao",
      "userId": "00405296856343604498"
     },
     "user_tz": -330
    },
    "id": "3w9D-SJRbKa-"
   },
   "outputs": [],
   "source": [
    "# Create a dataloader\n",
    "train_loader = DataLoader(training_set, batch_size=config['batch_size'], shuffle=True)\n",
    "valid_loader = DataLoader(validation_set, batch_size=config['batch_size'], shuffle=False)"
   ]
  },
  {
   "cell_type": "code",
   "execution_count": 183,
   "metadata": {
    "executionInfo": {
     "elapsed": 469,
     "status": "ok",
     "timestamp": 1718005029908,
     "user": {
      "displayName": "Ritish Shrirao",
      "userId": "00405296856343604498"
     },
     "user_tz": -330
    },
    "id": "2maBn4SqbKa_"
   },
   "outputs": [],
   "source": [
    "# Learning rate scheduling with warmup steps\n",
    "# def lr_scheduler(step, n_embed=config['n_embed'], warmup_steps=400):\n",
    "#     step = max(1, step)\n",
    "#     lr = (n_embed ** -0.5) * min(step ** -0.5, step * warmup_steps ** -1.5)\n",
    "#     return lr\n",
    "\n",
    "# optimizer = torch.optim.AdamW(model.parameters(), lr=config['lr'])\n",
    "# scheduler = torch.optim.lr_scheduler.LambdaLR(optimizer, lr_scheduler)\n",
    "\n",
    "optimizer = torch.optim.AdamW(model.parameters(), lr=1e-6)"
   ]
  },
  {
   "cell_type": "code",
   "execution_count": 184,
   "metadata": {
    "colab": {
     "base_uri": "https://localhost:8080/",
     "height": 843
    },
    "executionInfo": {
     "elapsed": 439519,
     "status": "error",
     "timestamp": 1718005886019,
     "user": {
      "displayName": "Ritish Shrirao",
      "userId": "00405296856343604498"
     },
     "user_tz": -330
    },
    "id": "123ys5N8bKa_",
    "outputId": "7df54381-c665-485d-daaf-bb6905649e21"
   },
   "outputs": [
    {
     "name": "stdout",
     "output_type": "stream",
     "text": [
      "Epoch: 81 Step 66000: train_loss 0.257 val_loss 0.521 lr 1.0e-06\n",
      "Accuracy: 0.69\n",
      "Epoch: 81 Step 66200: train_loss 0.312 val_loss 0.520 lr 1.0e-06\n",
      "Accuracy: 0.69\n",
      "Epoch: 81 Step 66400: train_loss 0.319 val_loss 0.519 lr 1.0e-06\n",
      "Accuracy: 0.69\n",
      "Epoch: 81 Step 66600: train_loss 0.309 val_loss 0.519 lr 1.0e-06\n",
      "Accuracy: 0.69\n",
      "Epoch: 82 Step 66800: train_loss 0.300 val_loss 0.519 lr 1.0e-06\n",
      "Accuracy: 0.69\n",
      "Epoch: 82 Step 67000: train_loss 0.314 val_loss 0.518 lr 1.0e-06\n",
      "Accuracy: 0.69\n",
      "Epoch: 82 Step 67200: train_loss 0.320 val_loss 0.519 lr 1.0e-06\n",
      "Accuracy: 0.69\n",
      "Epoch: 82 Step 67400: train_loss 0.304 val_loss 0.519 lr 1.0e-06\n",
      "Accuracy: 0.69\n",
      "Epoch: 83 Step 67600: train_loss 0.301 val_loss 0.521 lr 1.0e-06\n",
      "Accuracy: 0.69\n",
      "Epoch: 83 Step 67800: train_loss 0.312 val_loss 0.519 lr 1.0e-06\n",
      "Accuracy: 0.69\n",
      "Epoch: 83 Step 68000: train_loss 0.301 val_loss 0.520 lr 1.0e-06\n",
      "Accuracy: 0.69\n",
      "Epoch: 84 Step 68200: train_loss 0.298 val_loss 0.521 lr 1.0e-06\n",
      "Accuracy: 0.69\n",
      "Epoch: 84 Step 68400: train_loss 0.306 val_loss 0.522 lr 1.0e-06\n",
      "Accuracy: 0.69\n",
      "Epoch: 84 Step 68600: train_loss 0.310 val_loss 0.522 lr 1.0e-06\n",
      "Accuracy: 0.69\n",
      "Epoch: 84 Step 68800: train_loss 0.308 val_loss 0.520 lr 1.0e-06\n",
      "Accuracy: 0.69\n",
      "Epoch: 85 Step 69000: train_loss 0.309 val_loss 0.520 lr 1.0e-06\n",
      "Accuracy: 0.69\n",
      "Epoch: 85 Step 69200: train_loss 0.311 val_loss 0.521 lr 1.0e-06\n",
      "Accuracy: 0.69\n",
      "Epoch: 85 Step 69400: train_loss 0.320 val_loss 0.521 lr 1.0e-06\n",
      "Accuracy: 0.69\n",
      "Epoch: 85 Step 69600: train_loss 0.303 val_loss 0.521 lr 1.0e-06\n",
      "Accuracy: 0.69\n"
     ]
    },
    {
     "ename": "KeyboardInterrupt",
     "evalue": "",
     "output_type": "error",
     "traceback": [
      "\u001b[0;31m---------------------------------------------------------------------------\u001b[0m",
      "\u001b[0;31mKeyboardInterrupt\u001b[0m                         Traceback (most recent call last)",
      "Cell \u001b[0;32mIn[184], line 30\u001b[0m\n\u001b[1;32m     28\u001b[0m \u001b[38;5;28;01mfor\u001b[39;00m data \u001b[38;5;129;01min\u001b[39;00m train_loader:\n\u001b[1;32m     29\u001b[0m     loss \u001b[38;5;241m=\u001b[39m train_step(model, data, optimizer)\n\u001b[0;32m---> 30\u001b[0m     avg_train_loss \u001b[38;5;241m+\u001b[39m\u001b[38;5;241m=\u001b[39m \u001b[43mloss\u001b[49m\u001b[38;5;241;43m.\u001b[39;49m\u001b[43mitem\u001b[49m\u001b[43m(\u001b[49m\u001b[43m)\u001b[49m\n\u001b[1;32m     31\u001b[0m     \u001b[38;5;28;01mif\u001b[39;00m (step \u001b[38;5;241m%\u001b[39m eval_interval \u001b[38;5;241m==\u001b[39m \u001b[38;5;241m0\u001b[39m \u001b[38;5;129;01mand\u001b[39;00m step1 \u001b[38;5;241m!=\u001b[39m \u001b[38;5;241m0\u001b[39m):\n\u001b[1;32m     32\u001b[0m         avg_train_loss \u001b[38;5;241m/\u001b[39m\u001b[38;5;241m=\u001b[39m eval_interval\n",
      "\u001b[0;31mKeyboardInterrupt\u001b[0m: "
     ]
    }
   ],
   "source": [
    "# Training loop\n",
    "def train_step(model, data, optimizer):\n",
    "    model.train()\n",
    "    x, y = data\n",
    "    # print(x.shape, y.shape)\n",
    "    x, y = x.to(device), y.to(device)\n",
    "    optimizer.zero_grad()\n",
    "    y_hat, loss = model(x, y)\n",
    "    loss.backward()\n",
    "    optimizer.step()\n",
    "    # scheduler.step()\n",
    "    return loss\n",
    "\n",
    "def eval_step(model, data):\n",
    "    model.eval()\n",
    "    x, y = data\n",
    "    x, y = x.to(device), y.to(device)\n",
    "    with torch.no_grad():\n",
    "        y_hat, loss = model(x, y)\n",
    "    return loss\n",
    "\n",
    "# Training loop\n",
    "avg_train_loss = 0\n",
    "eval_interval = 300\n",
    "step1 = 0\n",
    "\n",
    "for epoch in range(10):\n",
    "    for data in train_loader:\n",
    "        loss = train_step(model, data, optimizer)\n",
    "        avg_train_loss += loss.item()\n",
    "        if (step % eval_interval == 0 and step1 != 0):\n",
    "            avg_train_loss /= eval_interval\n",
    "            val_loss = sum(eval_step(model, data) for data in valid_loader) / len(valid_loader)\n",
    "            print(f\"Epoch: {n_epoch} Step {step}: train_loss {avg_train_loss:.3f} val_loss {val_loss:.3f} lr {optimizer.param_groups[0]['lr']:.1e}\")\n",
    "\n",
    "            val_acc = 0\n",
    "            # Print accuracy\n",
    "            for data in valid_loader:\n",
    "                x, y = data\n",
    "                x, y = x.to(device), y.to(device)\n",
    "                with torch.no_grad():\n",
    "                    y_hat, _ = model(x)\n",
    "                y_hat = y_hat.argmax(dim=-1)\n",
    "                correct = (y_hat == y).sum().item()\n",
    "                total = y.numel()\n",
    "                val_acc = correct / total\n",
    "            print(f\"Accuracy: {val_acc:.2f}\")\n",
    "\n",
    "            # wandb.log({\"train_loss\": avg_train_loss, \"val_loss\": val_loss, \"lr\": optimizer.param_groups[0]['lr'], \"accuracy\": val_acc}, step=step)\n",
    "            avg_train_loss = 0\n",
    "        step += 1\n",
    "        step1+= 1\n",
    "    n_epoch += 1"
   ]
  },
  {
   "cell_type": "code",
   "execution_count": null,
   "metadata": {},
   "outputs": [
    {
     "data": {
      "text/plain": [
       "<All keys matched successfully>"
      ]
     },
     "execution_count": 7,
     "metadata": {},
     "output_type": "execute_result"
    }
   ],
   "source": [
    "model.load_state_dict(torch.load('vit_cifar10.safetensors'))"
   ]
  },
  {
   "cell_type": "code",
   "execution_count": 8,
   "metadata": {
    "id": "ff-FH5QbbKa_",
    "outputId": "fafd51c4-dc62-41d5-c5e2-78301d68f2db"
   },
   "outputs": [
    {
     "name": "stderr",
     "output_type": "stream",
     "text": [
      "Clipping input data to the valid range for imshow with RGB data ([0..1] for floats or [0..255] for integers). Got range [-0.4390449..1.205605].\n"
     ]
    },
    {
     "name": "stdout",
     "output_type": "stream",
     "text": [
      "Label: frog\n",
      "Predicted: frog\n"
     ]
    },
    {
     "data": {
      "image/png": "[encoded data removed]",
      "text/plain": [
       "<Figure size 640x480 with 1 Axes>"
      ]
     },
     "metadata": {},
     "output_type": "display_data"
    }
   ],
   "source": [
    "# Check the model\n",
    "model.eval()\n",
    "# x, y = next(iter(valid_loader))\n",
    "# Take random image from the dataset\n",
    "x, y = random.choice(validation_set)\n",
    "x, y = x.unsqueeze(0), torch.tensor(y).unsqueeze(0)\n",
    "x, y = x.to(device), y.to(device)\n",
    "y_hat, _ = model(x)\n",
    "y_hat = y_hat.argmax(dim=-1)\n",
    "\n",
    "import matplotlib.pyplot as plt\n",
    "# Denormalize and show image\n",
    "def show_image(x):\n",
    "    x = x.permute(1, 2, 0).cpu().numpy()\n",
    "    x = (x + 1) / 2\n",
    "    plt.imshow(x)\n",
    "show_image(x[0])\n",
    "\n",
    "# Print predicted class name and true class name\n",
    "classes = validation_set.classes\n",
    "print(\"Label:\", classes[y[0]])\n",
    "print(\"Predicted:\", classes[y_hat[0]])"
   ]
  },
  {
   "cell_type": "code",
   "execution_count": 9,
   "metadata": {
    "colab": {
     "base_uri": "https://localhost:8080/"
    },
    "executionInfo": {
     "elapsed": 5219,
     "status": "ok",
     "timestamp": 1718005899106,
     "user": {
      "displayName": "Ritish Shrirao",
      "userId": "00405296856343604498"
     },
     "user_tz": -330
    },
    "id": "u0THJC5LbKbA",
    "outputId": "8d5218f3-99ec-4b89-db66-fe703635d0cb"
   },
   "outputs": [
    {
     "name": "stdout",
     "output_type": "stream",
     "text": [
      "Accuracy: 0.76\n"
     ]
    }
   ],
   "source": [
    "# Calculate validation accuracy\n",
    "correct = 0\n",
    "total = 0\n",
    "for data in valid_loader:\n",
    "    x, y = data\n",
    "    x, y = x.to(device), y.to(device)\n",
    "    with torch.no_grad():\n",
    "        y_hat, _ = model(x)\n",
    "    y_hat = y_hat.argmax(dim=-1)\n",
    "    correct += (y_hat == y).sum().item()\n",
    "    total += y.numel()\n",
    "print(f\"Accuracy: {correct/total:.2f}\")"
   ]
  },
  {
   "cell_type": "code",
   "execution_count": null,
   "metadata": {
    "colab": {
     "base_uri": "https://localhost:8080/"
    },
    "executionInfo": {
     "elapsed": 73108,
     "status": "ok",
     "timestamp": 1718005974851,
     "user": {
      "displayName": "Ritish Shrirao",
      "userId": "00405296856343604498"
     },
     "user_tz": -330
    },
    "id": "1c7zRTjwbKbA",
    "outputId": "ad500e30-6423-492a-ff5c-82f79aafa6c4"
   },
   "outputs": [],
   "source": [
    "# Calculate validation accuracy\n",
    "correct = 0\n",
    "total = 0\n",
    "for data in train_loader:\n",
    "    x, y = data\n",
    "    x, y = x.to(device), y.to(device)\n",
    "    with torch.no_grad():\n",
    "        y_hat, _ = model(x)\n",
    "    y_hat = y_hat.argmax(dim=-1)\n",
    "    correct += (y_hat == y).sum().item()\n",
    "    total += y.numel()\n",
    "print(f\"Accuracy: {correct/total:.2f}\")"
   ]
  },
  {
   "cell_type": "code",
   "execution_count": 44,
   "metadata": {
    "id": "3rvwGW8XbKbA"
   },
   "outputs": [
    {
     "name": "stdout",
     "output_type": "stream",
     "text": [
      "(6, 8, 65, 65)\n"
     ]
    }
   ],
   "source": [
    "def visualize_attention(model, x, device=device):\n",
    "    model.eval()\n",
    "    x = x.unsqueeze(0).to(device)\n",
    "    attention_weights = []\n",
    "    \n",
    "    with torch.no_grad():\n",
    "        x = model.embeddings(x)\n",
    "        cls_token = model.cls_token.expand(x.shape[0], -1, -1)\n",
    "        x = torch.cat((cls_token, x), dim=1)\n",
    "        x = x + model.pos_embedding\n",
    "        \n",
    "        for i, block in enumerate(model.enc_blocks):\n",
    "            # Forward pass through the transformer block\n",
    "            x = block(x)\n",
    "            \n",
    "            # Get keys, queries, and values for the current layer\n",
    "            B, T_enc, C = x.shape\n",
    "            q = block.sa.q_attn(x)\n",
    "            k, v = block.sa.kv_attn(x).split(C, dim=-1)\n",
    "            \n",
    "            # Split q, k, v into multiple heads\n",
    "            q = q.view(B, T_enc, block.sa.num_heads, block.sa.head_size).transpose(1, 2)\n",
    "            k = k.view(B, T_enc, block.sa.num_heads, block.sa.head_size).transpose(1, 2)\n",
    "            v = v.view(B, T_enc, block.sa.num_heads, block.sa.head_size).transpose(1, 2)\n",
    "            \n",
    "            # Compute attention weights\n",
    "            attn = (q @ k.transpose(-2, -1)) / math.sqrt(k.size(-1))\n",
    "            # Store the attention weights for the current layer\n",
    "            attention_weights.append(attn.cpu().numpy())\n",
    "            \n",
    "            attn = F.softmax(attn, dim=-1)\n",
    "    \n",
    "    # Convert the list of attention weights to a numpy array\n",
    "    attention_weights = np.array(attention_weights)\n",
    "    \n",
    "    return attention_weights[:, 0, :, :, :]\n",
    "\n",
    "# Get a random image from the dataset\n",
    "x, y = random.choice(validation_set)\n",
    "\n",
    "# # Visualize attention map\n",
    "attn = visualize_attention(model, x)\n",
    "print(attn.shape)"
   ]
  },
  {
   "cell_type": "code",
   "execution_count": 45,
   "metadata": {},
   "outputs": [
    {
     "data": {
      "image/png": "[encoded data removed]",
      "text/plain": [
       "<Figure size 640x480 with 1 Axes>"
      ]
     },
     "metadata": {},
     "output_type": "display_data"
    }
   ],
   "source": [
    "# Show the image\n",
    "# Denormalize the image according to the CIFAR10 normalization per channel\n",
    "def show_image(x):\n",
    "    x = x.permute(1, 2, 0).cpu().numpy()\n",
    "    mean = np.array([0.49139968, 0.48215841, 0.44653091])\n",
    "    std = np.array([0.24703223, 0.24348513, 0.26158784])\n",
    "    x = x * std + mean\n",
    "    plt.imshow(x)\n",
    "show_image(x)"
   ]
  },
  {
   "cell_type": "code",
   "execution_count": 46,
   "metadata": {},
   "outputs": [],
   "source": [
    "attn_rollout = np.zeros((6, 8, 65, 65))\n",
    "\n",
    "for layer in range(6):\n",
    "    for head in range(8):\n",
    "        attn_normalized = (attn[layer, head] + np.eye(attn[layer, head].shape[0])) * 0.5\n",
    "        if layer == 0:\n",
    "            attn_rollout[layer, head] = attn_normalized\n",
    "        else:\n",
    "            attn_rollout[layer, head] = attn_normalized @ attn_rollout[layer-1, head]\n",
    "\n",
    "# Plot the attention maps\n",
    "# fig, axs = plt.subplots(6, 8, figsize=(24, 18))\n",
    "# for i in range(6):\n",
    "#     for j in range(8):\n",
    "#         axs[i, j].imshow(attn_rollout[i, j], cmap='cividis')\n",
    "#         axs[i, j].axis('off')\n",
    "#         axs[i, j].set_title(f'Layer {i+1}, Head {j+1}')"
   ]
  },
  {
   "cell_type": "code",
   "execution_count": 47,
   "metadata": {},
   "outputs": [
    {
     "data": {
      "image/png": "[encoded data removed]",
      "text/plain": [
       "<Figure size 600x600 with 6 Axes>"
      ]
     },
     "metadata": {},
     "output_type": "display_data"
    }
   ],
   "source": [
    "# Plot mean attention map across heads\n",
    "fig, ax = plt.subplots(6, 1, figsize=(6, 6))\n",
    "attn_mean = attn_rollout.mean(axis=1)\n",
    "for i in range(6):\n",
    "    ax[i].imshow(attn_mean[i], cmap='cividis')"
   ]
  },
  {
   "cell_type": "code",
   "execution_count": null,
   "metadata": {},
   "outputs": [
    {
     "data": {
      "image/png": "[encoded data removed]",
      "text/plain": [
       "<Figure size 600x1800 with 6 Axes>"
      ]
     },
     "metadata": {},
     "output_type": "display_data"
    }
   ],
   "source": [
    "import cv2\n",
    "\n",
    "std = np.array([0.24703223, 0.24348513, 0.26158784])\n",
    "mean = np.array([0.49139968, 0.48215841, 0.44653091])\n",
    "\n",
    "mask = cv2.resize(attn_mean[3], (32, 32))\n",
    "img = (mask * (x.permute(1,2,0)*std+mean).permute(2,1,0).cpu().numpy()).transpose(1,2,0) \n",
    "\n",
    "# Plot for all attn_mean\n",
    "fig, axs = plt.subplots(6, 1, figsize=(6, 18))\n",
    "for i in range(6):\n",
    "    mask = cv2.resize(attn_mean[i], (32, 32))\n",
    "    img = (mask * (x.permute(1,2,0)*std+mean).permute(2,1,0).cpu().numpy()).transpose(1,2,0) \n",
    "    img = (img - img.min()) / (img.max() - img.min())       # Normalize the image\n",
    "    axs[i].imshow(img)"
   ]
  },
  {
   "cell_type": "code",
   "execution_count": 16,
   "metadata": {},
   "outputs": [
    {
     "name": "stdout",
     "output_type": "stream",
     "text": [
      "torch.Size([256, 3, 4, 4])\n"
     ]
    },
    {
     "data": {
      "image/png": "[encoded data removed]",
      "text/plain": [
       "<Figure size 1000x1000 with 64 Axes>"
      ]
     },
     "metadata": {},
     "output_type": "display_data"
    }
   ],
   "source": [
    "# Visualize conv filter of the first layer\n",
    "\n",
    "# Get the first layer of the model\n",
    "first_layer = model.embeddings.conv\n",
    "# Get the weights of the first layer\n",
    "weights = first_layer.weight    # (n_embed, in_channels, patch_size, patch_size)\n",
    "# Normalize the weights\n",
    "weights = weights - weights.min()\n",
    "weights = weights / weights.max()\n",
    "print(weights.shape)\n",
    "# Visualize the weights\n",
    "plt.figure(figsize=(10, 10))\n",
    "for i in range(64):\n",
    "    plt.subplot(8, 8, i+1)\n",
    "    plt.imshow(weights[i].permute(1, 2, 0).detach().cpu().numpy())\n",
    "    plt.axis('off')\n",
    "plt.show()"
   ]
  },
  {
   "cell_type": "code",
   "execution_count": null,
   "metadata": {},
   "outputs": [],
   "source": []
  },
  {
   "cell_type": "code",
   "execution_count": 26,
   "metadata": {},
   "outputs": [
    {
     "name": "stdout",
     "output_type": "stream",
     "text": [
      "(8, 8, 256)\n"
     ]
    }
   ],
   "source": [
    "# Visualize positional embeddings\n",
    "import seaborn as sns\n",
    "pos_embedding = model.pos_embedding.detach().squeeze(0).cpu().numpy()\n",
    "pos_embedding = pos_embedding[1:].reshape(8, 8, -1)\n",
    "print(pos_embedding.shape)"
   ]
  },
  {
   "cell_type": "code",
   "execution_count": 27,
   "metadata": {},
   "outputs": [
    {
     "data": {
      "text/plain": [
       "<Axes: >"
      ]
     },
     "execution_count": 27,
     "metadata": {},
     "output_type": "execute_result"
    },
    {
     "data": {
      "image/png": "[encoded data removed]",
      "text/plain": [
       "<Figure size 300x300 with 1 Axes>"
      ]
     },
     "metadata": {},
     "output_type": "display_data"
    }
   ],
   "source": [
    "# Create a grid of dot product of positional embeddings\n",
    "p1 = pos_embedding[4,5]\n",
    "\n",
    "similarities = np.zeros((8, 8))\n",
    "for i in range(8):\n",
    "    for j in range(8):\n",
    "        p2 = pos_embedding[i, j]\n",
    "        similarities[i, j] = np.dot(p1, p2) / (np.linalg.norm(p1) * np.linalg.norm(p2))\n",
    "\n",
    "similarities = np.array(similarities).reshape(8, 8)\n",
    "plt.figure(figsize=(3,3))\n",
    "sns.heatmap(similarities, annot=False, cmap='viridis', cbar=False)\n",
    "\n",
    "# In the paper, the pos embeddings are similar for the same row/column"
   ]
  },
  {
   "cell_type": "code",
   "execution_count": null,
   "metadata": {},
   "outputs": [],
   "source": []
  }
 ],
 "metadata": {
  "accelerator": "GPU",
  "colab": {
   "gpuType": "T4",
   "provenance": []
  },
  "kernelspec": {
   "display_name": ".venv",
   "language": "python",
   "name": "python3"
  },
  "language_info": {
   "codemirror_mode": {
    "name": "ipython",
    "version": 3
   },
   "file_extension": ".py",
   "mimetype": "text/x-python",
   "name": "python",
   "nbconvert_exporter": "python",
   "pygments_lexer": "ipython3",
   "version": "3.12.7"
  },
  "widgets": {
   "application/vnd.jupyter.widget-state+json": {
    "377ce14bb46e477da2ef1d67bdf866ed": {
     "model_module": "@jupyter-widgets/base",
     "model_module_version": "1.2.0",
     "model_name": "LayoutModel",
     "state": {
      "_model_module": "@jupyter-widgets/base",
      "_model_module_version": "1.2.0",
      "_model_name": "LayoutModel",
      "_view_count": null,
      "_view_module": "@jupyter-widgets/base",
      "_view_module_version": "1.2.0",
      "_view_name": "LayoutView",
      "align_content": null,
      "align_items": null,
      "align_self": null,
      "border": null,
      "bottom": null,
      "display": null,
      "flex": null,
      "flex_flow": null,
      "grid_area": null,
      "grid_auto_columns": null,
      "grid_auto_flow": null,
      "grid_auto_rows": null,
      "grid_column": null,
      "grid_gap": null,
      "grid_row": null,
      "grid_template_areas": null,
      "grid_template_columns": null,
      "grid_template_rows": null,
      "height": null,
      "justify_content": null,
      "justify_items": null,
      "left": null,
      "margin": null,
      "max_height": null,
      "max_width": null,
      "min_height": null,
      "min_width": null,
      "object_fit": null,
      "object_position": null,
      "order": null,
      "overflow": null,
      "overflow_x": null,
      "overflow_y": null,
      "padding": null,
      "right": null,
      "top": null,
      "visibility": null,
      "width": null
     }
    },
    "58d745e01c72443891a3d40e5ff3d715": {
     "model_module": "@jupyter-widgets/controls",
     "model_module_version": "1.5.0",
     "model_name": "DescriptionStyleModel",
     "state": {
      "_model_module": "@jupyter-widgets/controls",
      "_model_module_version": "1.5.0",
      "_model_name": "DescriptionStyleModel",
      "_view_count": null,
      "_view_module": "@jupyter-widgets/base",
      "_view_module_version": "1.2.0",
      "_view_name": "StyleView",
      "description_width": ""
     }
    },
    "6fa670756fce4d968e103f142389c005": {
     "model_module": "@jupyter-widgets/controls",
     "model_module_version": "1.5.0",
     "model_name": "ProgressStyleModel",
     "state": {
      "_model_module": "@jupyter-widgets/controls",
      "_model_module_version": "1.5.0",
      "_model_name": "ProgressStyleModel",
      "_view_count": null,
      "_view_module": "@jupyter-widgets/base",
      "_view_module_version": "1.2.0",
      "_view_name": "StyleView",
      "bar_color": null,
      "description_width": ""
     }
    },
    "ab86ecac00984d0b9684d2d116232d63": {
     "model_module": "@jupyter-widgets/base",
     "model_module_version": "1.2.0",
     "model_name": "LayoutModel",
     "state": {
      "_model_module": "@jupyter-widgets/base",
      "_model_module_version": "1.2.0",
      "_model_name": "LayoutModel",
      "_view_count": null,
      "_view_module": "@jupyter-widgets/base",
      "_view_module_version": "1.2.0",
      "_view_name": "LayoutView",
      "align_content": null,
      "align_items": null,
      "align_self": null,
      "border": null,
      "bottom": null,
      "display": null,
      "flex": null,
      "flex_flow": null,
      "grid_area": null,
      "grid_auto_columns": null,
      "grid_auto_flow": null,
      "grid_auto_rows": null,
      "grid_column": null,
      "grid_gap": null,
      "grid_row": null,
      "grid_template_areas": null,
      "grid_template_columns": null,
      "grid_template_rows": null,
      "height": null,
      "justify_content": null,
      "justify_items": null,
      "left": null,
      "margin": null,
      "max_height": null,
      "max_width": null,
      "min_height": null,
      "min_width": null,
      "object_fit": null,
      "object_position": null,
      "order": null,
      "overflow": null,
      "overflow_x": null,
      "overflow_y": null,
      "padding": null,
      "right": null,
      "top": null,
      "visibility": null,
      "width": null
     }
    },
    "afe1f2bc768b43aeab105b6f5cdfb4fa": {
     "model_module": "@jupyter-widgets/base",
     "model_module_version": "1.2.0",
     "model_name": "LayoutModel",
     "state": {
      "_model_module": "@jupyter-widgets/base",
      "_model_module_version": "1.2.0",
      "_model_name": "LayoutModel",
      "_view_count": null,
      "_view_module": "@jupyter-widgets/base",
      "_view_module_version": "1.2.0",
      "_view_name": "LayoutView",
      "align_content": null,
      "align_items": null,
      "align_self": null,
      "border": null,
      "bottom": null,
      "display": null,
      "flex": null,
      "flex_flow": null,
      "grid_area": null,
      "grid_auto_columns": null,
      "grid_auto_flow": null,
      "grid_auto_rows": null,
      "grid_column": null,
      "grid_gap": null,
      "grid_row": null,
      "grid_template_areas": null,
      "grid_template_columns": null,
      "grid_template_rows": null,
      "height": null,
      "justify_content": null,
      "justify_items": null,
      "left": null,
      "margin": null,
      "max_height": null,
      "max_width": null,
      "min_height": null,
      "min_width": null,
      "object_fit": null,
      "object_position": null,
      "order": null,
      "overflow": null,
      "overflow_x": null,
      "overflow_y": null,
      "padding": null,
      "right": null,
      "top": null,
      "visibility": null,
      "width": null
     }
    },
    "ccc7e1eb52a4406b8e343a422d7e3dcf": {
     "model_module": "@jupyter-widgets/controls",
     "model_module_version": "1.5.0",
     "model_name": "LabelModel",
     "state": {
      "_dom_classes": [],
      "_model_module": "@jupyter-widgets/controls",
      "_model_module_version": "1.5.0",
      "_model_name": "LabelModel",
      "_view_count": null,
      "_view_module": "@jupyter-widgets/controls",
      "_view_module_version": "1.5.0",
      "_view_name": "LabelView",
      "description": "",
      "description_tooltip": null,
      "layout": "IPY_MODEL_ab86ecac00984d0b9684d2d116232d63",
      "placeholder": "​",
      "style": "IPY_MODEL_58d745e01c72443891a3d40e5ff3d715",
      "value": "0.021 MB of 0.021 MB uploaded\r"
     }
    },
    "d3af52cdfff54edf91ee741a587903ae": {
     "model_module": "@jupyter-widgets/controls",
     "model_module_version": "1.5.0",
     "model_name": "VBoxModel",
     "state": {
      "_dom_classes": [],
      "_model_module": "@jupyter-widgets/controls",
      "_model_module_version": "1.5.0",
      "_model_name": "VBoxModel",
      "_view_count": null,
      "_view_module": "@jupyter-widgets/controls",
      "_view_module_version": "1.5.0",
      "_view_name": "VBoxView",
      "box_style": "",
      "children": [
       "IPY_MODEL_ccc7e1eb52a4406b8e343a422d7e3dcf",
       "IPY_MODEL_faa50675053e4b7a9013786342aa8552"
      ],
      "layout": "IPY_MODEL_377ce14bb46e477da2ef1d67bdf866ed"
     }
    },
    "faa50675053e4b7a9013786342aa8552": {
     "model_module": "@jupyter-widgets/controls",
     "model_module_version": "1.5.0",
     "model_name": "FloatProgressModel",
     "state": {
      "_dom_classes": [],
      "_model_module": "@jupyter-widgets/controls",
      "_model_module_version": "1.5.0",
      "_model_name": "FloatProgressModel",
      "_view_count": null,
      "_view_module": "@jupyter-widgets/controls",
      "_view_module_version": "1.5.0",
      "_view_name": "ProgressView",
      "bar_style": "",
      "description": "",
      "description_tooltip": null,
      "layout": "IPY_MODEL_afe1f2bc768b43aeab105b6f5cdfb4fa",
      "max": 1,
      "min": 0,
      "orientation": "horizontal",
      "style": "IPY_MODEL_6fa670756fce4d968e103f142389c005",
      "value": 1
     }
    }
   }
  }
 },
 "nbformat": 4,
 "nbformat_minor": 0
}
